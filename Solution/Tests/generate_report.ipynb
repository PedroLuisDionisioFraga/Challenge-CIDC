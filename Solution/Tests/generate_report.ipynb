{
 "cells": [
  {
   "cell_type": "markdown",
   "metadata": {},
   "source": [
    "Import library"
   ]
  },
  {
   "cell_type": "code",
   "execution_count": 78,
   "metadata": {},
   "outputs": [],
   "source": [
    "import pandas as pd"
   ]
  },
  {
   "cell_type": "markdown",
   "metadata": {},
   "source": [
    "Read the Excel files"
   ]
  },
  {
   "cell_type": "code",
   "execution_count": 79,
   "metadata": {},
   "outputs": [],
   "source": [
    "site_list = pd.read_excel(\"../../SiteList.xlsx\")\n",
    "results = pd.read_excel(\"../../Results.xlsx\")"
   ]
  },
  {
   "cell_type": "markdown",
   "metadata": {},
   "source": [
    "Filter 2023 sites only"
   ]
  },
  {
   "cell_type": "code",
   "execution_count": 80,
   "metadata": {},
   "outputs": [],
   "source": [
    "# Filtrar os sites apenas do ano de 2023 em SiteList.xlsx\n",
    "site_list = site_list[site_list['Year'] == 2023]\n",
    "# Filter in 'Results.xlsx'\n",
    "results = results[results['Year'] == 2023]"
   ]
  },
  {
   "cell_type": "markdown",
   "metadata": {},
   "source": [
    "Há um problema, no arquivo `Results.xlsx`, onde a coluna `Site Name` fica vazia após o filtro, irei refazê-la"
   ]
  },
  {
   "cell_type": "code",
   "execution_count": 81,
   "metadata": {},
   "outputs": [],
   "source": [
    "# Refazendo a coluna \"Site Name\" a partir das colunas individuais\n",
    "results['Site Name'] = results.apply(lambda row: f\"2023{row['Site ID']}-{row['City']}{row['State']}\", axis=1)"
   ]
  },
  {
   "cell_type": "markdown",
   "metadata": {},
   "source": [
    "Saving new datas"
   ]
  },
  {
   "cell_type": "code",
   "execution_count": 82,
   "metadata": {},
   "outputs": [],
   "source": [
    "site_list.to_excel(\"../../Solution/Reports/SiteList.xlsx\", index=False)\n",
    "results.to_excel(\"../../Solution/Reports/Results.xlsx\", index=False)"
   ]
  },
  {
   "cell_type": "markdown",
   "metadata": {},
   "source": [
    "Creating a report"
   ]
  },
  {
   "cell_type": "code",
   "execution_count": 83,
   "metadata": {},
   "outputs": [
    {
     "name": "stderr",
     "output_type": "stream",
     "text": [
      "C:\\Users\\Pedro\\AppData\\Local\\Temp\\ipykernel_6508\\2798017324.py:5: SettingWithCopyWarning: \n",
      "A value is trying to be set on a copy of a slice from a DataFrame\n",
      "\n",
      "See the caveats in the documentation: https://pandas.pydata.org/pandas-docs/stable/user_guide/indexing.html#returning-a-view-versus-a-copy\n",
      "  merged_data.sort_values(by='State', inplace=True)\n"
     ]
    }
   ],
   "source": [
    "new_columns = ['Site Name', 'Site ID', 'State', 'Equipment', 'Signal (%)', 'Quality (0-10)', 'Mbps']\n",
    "merged_data = results[new_columns]\n",
    "\n",
    "# Ordenar o DataFrame pelo estado\n",
    "merged_data.sort_values(by='State', inplace=True)\n",
    "\n",
    "# Renomear as colunas\n",
    "merged_data = merged_data.rename(columns={'Site Name': 'Site', 'State': 'Estado', 'Equipment':'Equipamento'})\n",
    "\n",
    "# Salvar os dados em uma nova planilha Excel\n",
    "merged_data.to_excel('../../Solution/Reports/Relatório_Final.xlsx', index=False)"
   ]
  },
  {
   "cell_type": "markdown",
   "metadata": {},
   "source": [
    "Printing the second part of the question to the console"
   ]
  },
  {
   "cell_type": "code",
   "execution_count": 87,
   "metadata": {},
   "outputs": [
    {
     "name": "stdout",
     "output_type": "stream",
     "text": [
      "\n",
      "Sites with active alerts:\n",
      "20233521-EstivaMG\n",
      "20233884-BelemPA\n",
      "20232679-São PauloSP\n",
      "20233623-Santa Rita do SapucaiMG\n",
      "20233311-BelemPA\n",
      "20232312-BelemPA\n",
      "20234872-São PauloSP\n",
      "20233807-Rio de JaneiroRJ\n",
      "20234336-ManausAM\n",
      "20233956-Santa Rita do SapucaiMG\n",
      "20232385-Rio de JaneiroRJ\n",
      "20233440-BelemPA\n",
      "20231869-Lagoa da prataMG\n",
      "20232191-CaxambuMG\n",
      "20233779-Santa Rita do SapucaiMG\n",
      "20232427-Rio de JaneiroRJ\n",
      "20232568-São PauloSP\n",
      "20234448-São PauloSP\n",
      "20234767-ManausAM\n",
      "20231866-CaxambuMG\n",
      "20233427-Rio de JaneiroRJ\n",
      "20232182-Sete LagoasMG\n",
      "20232492-Rio de JaneiroRJ\n",
      "20234327-NatalRN\n",
      "20233402-GuarulhosSP\n",
      "20233701-Lagoa da prataMG\n",
      "20231368-Lagoa da prataMG\n",
      "20232108-Sao Jose dos camposSP\n",
      "20232388-NatalRN\n",
      "20234741-VitoriaES\n",
      "20231366-GuarulhosSP\n",
      "20232923-NatalRN\n",
      "20234431-VitoriaES\n",
      "20231309-VitoriaES\n",
      "20232628-Sao Jose dos camposSP\n",
      "20231896-GuarulhosSP\n",
      "20234461-Sete LagoasMG\n",
      "\n",
      "------------------------------------\n",
      "Sites with a quality score of 0:\n",
      "20234336-ManausAM\n",
      "20231368-Lagoa da prataMG\n",
      "20231696-Sete LagoasMG\n",
      "\n",
      "------------------------------------\n",
      "Sites with more than 80 Mbps:\n",
      "20234892-NatalRN\n",
      "20234243-CampinasSP\n",
      "\n",
      "------------------------------------\n",
      "Sites with less than 10 Mbps:\n",
      "20233044-BelemPA\n",
      "20234029-ManausAM\n",
      "20232568-São PauloSP\n",
      "20233946-CampinasSP\n",
      "20231199-São PauloSP\n",
      "20233701-Lagoa da prataMG\n",
      "20231309-VitoriaES\n",
      "20231696-Sete LagoasMG\n",
      "\n",
      "------------------------------------\n",
      "Sites that are not present in Site List:\n",
      "20234461-Sete LagoasMG\n",
      "20234243-CampinasSP\n",
      "20233402-GuarulhosSP\n",
      "20233362-BelemPA\n",
      "20231896-GuarulhosSP\n",
      "20234767-ManausAM\n",
      "20234571-BelemPA\n",
      "20233022-Belo HorizonteMG\n",
      "20232568-São PauloSP\n",
      "20232492-Rio de JaneiroRJ\n",
      "20232388-NatalRN\n",
      "20233043-GuarulhosSP\n",
      "20231137-Lagoa da prataMG\n",
      "20232426-Sete LagoasMG\n",
      "20231399-Sao Jose dos camposSP\n",
      "20233956-Santa Rita do SapucaiMG\n",
      "20234425-EstivaMG\n",
      "20232316-Lagoa da prataMG\n",
      "20233326-CampinasSP\n",
      "20233243-ManausAM\n",
      "20234954-ManausAM\n",
      "20232312-BelemPA\n",
      "20233701-Lagoa da prataMG\n",
      "20234431-VitoriaES\n",
      "20234448-São PauloSP\n",
      "20234892-NatalRN\n",
      "20232993-Lagoa da prataMG\n",
      "20232385-Rio de JaneiroRJ\n",
      "20233044-BelemPA\n",
      "20234872-São PauloSP\n",
      "20233884-BelemPA\n",
      "20234085-NatalRN\n",
      "20231449-Lagoa da prataMG\n",
      "20232679-São PauloSP\n",
      "20233108-Santa Rita do SapucaiMG\n",
      "20233714-Rio de JaneiroRJ\n",
      "20231696-Sete LagoasMG\n",
      "20233623-Santa Rita do SapucaiMG\n",
      "20234336-ManausAM\n",
      "20233311-BelemPA\n",
      "20233807-Rio de JaneiroRJ\n",
      "20233779-Santa Rita do SapucaiMG\n",
      "20231869-Lagoa da prataMG\n",
      "20233427-Rio de JaneiroRJ\n",
      "20234029-ManausAM\n",
      "20234741-VitoriaES\n",
      "20232628-Sao Jose dos camposSP\n",
      "20234912-EstivaMG\n",
      "20233440-BelemPA\n",
      "20233968-CaxambuMG\n",
      "20231672-EstivaMG\n",
      "20234327-NatalRN\n",
      "20233946-CampinasSP\n",
      "20232427-Rio de JaneiroRJ\n",
      "20231532-Rio de JaneiroRJ\n",
      "20232923-NatalRN\n",
      "20232191-CaxambuMG\n",
      "20231356-GuarulhosSP\n",
      "20234632-CaxambuMG\n",
      "20233521-EstivaMG\n",
      "20234403-São PauloSP\n"
     ]
    }
   ],
   "source": [
    "results = pd.read_excel(\"../../Results.xlsx\")\n",
    "results['Site Name'] = results.apply(lambda row: f\"2023{row['Site ID']}-{row['City']}{row['State']}\", axis=1)\n",
    "\n",
    "print(\"\\nSites with active alerts:\")\n",
    "alert_sites = results[results['Alerts'] == 'Yes']['Site Name']\n",
    "for alert in alert_sites:\n",
    "  print(alert)\n",
    "\n",
    "print(\"\\n------------------------------------\")\n",
    "print(\"Sites with a quality score of 0:\")\n",
    "quality_zero_sites = results[results['Quality (0-10)'] == 0]['Site Name']\n",
    "for speed in quality_zero_sites:\n",
    "  print(speed)\n",
    "\n",
    "print(\"\\n------------------------------------\")\n",
    "print(\"Sites with more than 80 Mbps:\")\n",
    "high_speed_sites = results[results['Mbps'] > 80]['Site Name']\n",
    "for speed in high_speed_sites:\n",
    "  print(speed)\n",
    "\n",
    "print(\"\\n------------------------------------\")\n",
    "print(\"Sites with less than 10 Mbps:\")\n",
    "low_speed_sites = list(results[results['Mbps'] < 10]['Site Name'])\n",
    "for speed in low_speed_sites:\n",
    "  print(speed)\n",
    "\n",
    "print(\"\\n------------------------------------\")\n",
    "print(\"Sites that are not present in Site List:\")\n",
    "sites_in_site_list = set(site_list['Site Name'])\n",
    "sites_in_results = set(results['Site Name'])\n",
    "sites_not_in_site_list = sites_in_results - sites_in_site_list\n",
    "\n",
    "for site in sites_not_in_site_list:\n",
    "  print(site)"
   ]
  }
 ],
 "metadata": {
  "kernelspec": {
   "display_name": "Python 3",
   "language": "python",
   "name": "python3"
  },
  "language_info": {
   "codemirror_mode": {
    "name": "ipython",
    "version": 3
   },
   "file_extension": ".py",
   "mimetype": "text/x-python",
   "name": "python",
   "nbconvert_exporter": "python",
   "pygments_lexer": "ipython3",
   "version": "3.8.0"
  },
  "orig_nbformat": 4
 },
 "nbformat": 4,
 "nbformat_minor": 2
}
